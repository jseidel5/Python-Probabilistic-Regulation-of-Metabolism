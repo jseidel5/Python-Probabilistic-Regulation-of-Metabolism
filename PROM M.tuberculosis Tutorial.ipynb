{
 "cells": [
  {
   "cell_type": "markdown",
   "metadata": {},
   "source": [
    "## Example PROM Workflow for Mycobacterium tuberculosis\n",
    "## 1st step\n",
    "1 Load PROM algorithm   <br>\n",
    "2 Load metabolic model in sbml format  <br>\n",
    "3 Load expression data excel file  <br>\n",
    "4 Load regulatory network excel file  <br>\n",
    "5 Set objective <br>\n",
    "6 Set Name of data directory"
   ]
  },
  {
   "cell_type": "code",
   "execution_count": 7,
   "metadata": {},
   "outputs": [],
   "source": [
    "import PROM_v3 as prom\n",
    "\n",
    "model,raw_expression,regnet = prom.read_data(\n",
    "    expression_path='.\\data\\\\expressiondata_iNJ661.xlsx',\n",
    "    model_path='.\\data\\\\iNJ661.xml',\n",
    "    regnet_path='.\\data\\\\regulator_target_iNJ661.xlsx'\n",
    ")\n",
    "\n",
    "biomass_rxn = 'BIOMASS_Mtb_9_60atp'\n",
    "path = 'data'"
   ]
  },
  {
   "cell_type": "markdown",
   "metadata": {},
   "source": [
    "## 2nd step\n",
    "## Run PROM\n",
    " Arguments:  <br>\n",
    " 1 Regulator to KO  <br>\n",
    " 2 Metabolic model  <br>\n",
    " 3 Expression data  <br>\n",
    " 4 Regulatory Network  <br>\n",
    " 5 Objective reaction   <br>\n",
    " 6 print detailed Information (True/False)  <br>\n",
    " 7 Name of data directory <br>\n",
    " 8 Binarization threshold for expression data (default: 0.33)"
   ]
  },
  {
   "cell_type": "code",
   "execution_count": 9,
   "metadata": {},
   "outputs": [
    {
     "name": "stdout",
     "output_type": "stream",
     "text": [
      "Rv1018c regulated by: Rv0485\n",
      " |-in model: True\n",
      " |-significant interaction: True\n",
      " |-PROM prob: 0.8058252427184466\n",
      " |-reactions: ['G1PACT', 'UAGDP']\n",
      " |___________________________________\n",
      "Rv1692 regulated by: Rv0485\n",
      " |-in model: True\n",
      " |-significant interaction: False\n",
      " |-PROM prob: 1\n",
      " |-reactions: ['MN6PP']\n",
      " |___________________________________\n",
      "Rv3332 regulated by: Rv0485\n",
      " |-in model: True\n",
      " |-significant interaction: True\n",
      " |-PROM prob: 0.7766990291262136\n",
      " |-reactions: ['AGDC']\n",
      " |___________________________________\n",
      "Rv3436c regulated by: Rv0485\n",
      " |-in model: True\n",
      " |-significant interaction: False\n",
      " |-PROM prob: 1\n",
      " |-reactions: ['GF6PTA']\n",
      " |___________________________________\n",
      "rxn_constrain_probs: {'G1PACT': 0.8058252427184466, 'UAGDP': 0.8058252427184466, 'AGDC': 0.7766990291262136}\n",
      "penalty variables: [-3.15394732299548*G1PACT_beta, -11.5098639534092*UAGDP_beta]\n",
      "------------------------------------\n",
      "Original objective value: 0.05254980100850631\n",
      "PROM objective values 0.042345956152481413\n",
      "------------------------------------\n"
     ]
    }
   ],
   "source": [
    "prom.PROM_wrapper('Rv0485',model,raw_expression,regnet,biomass_rxn,detail_print=True,path,binarize_thresh= 0.33)"
   ]
  },
  {
   "cell_type": "markdown",
   "metadata": {},
   "source": [
    "For your own organism/ data create a new 'your_organism_data' directory, add all required files into it and change the paths in the script."
   ]
  },
  {
   "cell_type": "code",
   "execution_count": null,
   "metadata": {},
   "outputs": [],
   "source": []
  }
 ],
 "metadata": {
  "kernelspec": {
   "display_name": "Python 3",
   "language": "python",
   "name": "python3"
  },
  "language_info": {
   "codemirror_mode": {
    "name": "ipython",
    "version": 3
   },
   "file_extension": ".py",
   "mimetype": "text/x-python",
   "name": "python",
   "nbconvert_exporter": "python",
   "pygments_lexer": "ipython3",
   "version": "3.7.6"
  }
 },
 "nbformat": 4,
 "nbformat_minor": 4
}
